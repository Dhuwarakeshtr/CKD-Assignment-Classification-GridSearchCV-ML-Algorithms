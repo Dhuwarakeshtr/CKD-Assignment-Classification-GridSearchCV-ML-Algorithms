{
 "cells": [
  {
   "cell_type": "code",
   "execution_count": 1,
   "id": "fe78b754-e54e-4511-ba44-0257655b0245",
   "metadata": {},
   "outputs": [],
   "source": [
    "import pickle"
   ]
  },
  {
   "cell_type": "code",
   "execution_count": 2,
   "id": "301e0744-819a-4da8-b7aa-9bdb823dad55",
   "metadata": {},
   "outputs": [
    {
     "name": "stdout",
     "output_type": "stream",
     "text": [
      "Not Positive\n"
     ]
    },
    {
     "name": "stderr",
     "output_type": "stream",
     "text": [
      "C:\\Dhuwarakesh-HopeAI\\envs\\aiml\\Lib\\site-packages\\sklearn\\utils\\validation.py:2739: UserWarning: X does not have valid feature names, but StandardScaler was fitted with feature names\n",
      "  warnings.warn(\n"
     ]
    }
   ],
   "source": [
    "loaded_model=pickle.load(open(\"Final_Model_LR_Classification.sav\",'rb'))\n",
    "loaded_sc=pickle.load(open(\"sc.pkl\",'rb'))\n",
    "preinput=loaded_sc.transform([[36,85,4,3,253,165,0.6,150,4.9,10.9,31,7300,4.5,0,1,1,1,0,0,1,0,1,1,1,1,1,1]])\n",
    "result=loaded_model.predict(preinput)\n",
    "if (result == 0):\n",
    "    print(\"Not Positive\")\n",
    "else:\n",
    "    print(\"Positive\")"
   ]
  },
  {
   "cell_type": "code",
   "execution_count": null,
   "id": "59d5169b-f21b-47f1-9f23-c4edf2c22f62",
   "metadata": {},
   "outputs": [],
   "source": []
  }
 ],
 "metadata": {
  "kernelspec": {
   "display_name": "Python 3 (ipykernel)",
   "language": "python",
   "name": "python3"
  },
  "language_info": {
   "codemirror_mode": {
    "name": "ipython",
    "version": 3
   },
   "file_extension": ".py",
   "mimetype": "text/x-python",
   "name": "python",
   "nbconvert_exporter": "python",
   "pygments_lexer": "ipython3",
   "version": "3.13.5"
  }
 },
 "nbformat": 4,
 "nbformat_minor": 5
}
